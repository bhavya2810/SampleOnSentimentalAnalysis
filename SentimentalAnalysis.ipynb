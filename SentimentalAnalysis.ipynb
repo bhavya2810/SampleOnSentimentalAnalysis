{
 "cells": [
  {
   "cell_type": "code",
   "execution_count": 1,
   "metadata": {},
   "outputs": [],
   "source": [
    "import pandas as pd\n",
    "import re\n",
    "from textblob import TextBlob\n",
    "import datascience as ds"
   ]
  },
  {
   "cell_type": "markdown",
   "metadata": {},
   "source": [
    "Task 1 - Read the xls file"
   ]
  },
  {
   "cell_type": "code",
   "execution_count": 2,
   "metadata": {},
   "outputs": [],
   "source": [
    "file_name = r'data/samples/Sample1.xls'\n",
    "mycols = ['GUID', 'Date', 'URL', 'Contents','Author','Name','Country','State/Region','City/UrbanArea', 'Category', 'Source', 'Gender', 'Posts', 'Followers', 'Following', 'PostTitle', 'PostType', 'ImageURL', 'Brand']\n",
    "data = pd.read_excel(file_name, index_col = None, header = None, names = mycols).iloc[2:]"
   ]
  },
  {
   "cell_type": "code",
   "execution_count": 3,
   "metadata": {},
   "outputs": [
    {
     "name": "stdout",
     "output_type": "stream",
     "text": [
      "['Twitter' 'Tumblr' 'News' 'Reddit' 'Forums' 'YouTube' 'Blogs' 'Comments']\n"
     ]
    }
   ],
   "source": [
    "print(data.Source.unique())"
   ]
  },
  {
   "cell_type": "markdown",
   "metadata": {},
   "source": [
    "Task 2 - Removing Tumblr records and keeping only the Twitter ones"
   ]
  },
  {
   "cell_type": "code",
   "execution_count": 4,
   "metadata": {},
   "outputs": [
    {
     "name": "stdout",
     "output_type": "stream",
     "text": [
      "['Twitter' 'News' 'Reddit' 'Forums' 'YouTube' 'Blogs' 'Comments']\n"
     ]
    }
   ],
   "source": [
    "indexNames = data[ data['Source'] == 'Tumblr' ].index\n",
    "data.drop(indexNames , inplace=True)\n",
    "print(data.Source.unique())"
   ]
  },
  {
   "cell_type": "code",
   "execution_count": 5,
   "metadata": {},
   "outputs": [],
   "source": [
    "rslt_df = data[data['Source'] == 'Twitter'] "
   ]
  },
  {
   "cell_type": "code",
   "execution_count": 6,
   "metadata": {},
   "outputs": [
    {
     "name": "stdout",
     "output_type": "stream",
     "text": [
      "['Twitter']\n"
     ]
    }
   ],
   "source": [
    "print(rslt_df.Source.unique())"
   ]
  },
  {
   "cell_type": "code",
   "execution_count": 7,
   "metadata": {},
   "outputs": [
    {
     "name": "stdout",
     "output_type": "stream",
     "text": [
      "                     GUID                 Date  \\\n",
      "2      921898005548036096  2017-10-22 00:36:27   \n",
      "3      924449998972088320  2017-10-29 01:37:09   \n",
      "4      920046800492466178  2017-10-16 22:00:25   \n",
      "5      923767728128888833  2017-10-27 04:26:03   \n",
      "6      921388952388554752  2017-10-20 14:53:39   \n",
      "...                   ...                  ...   \n",
      "9995   924647308507131904  2017-10-29 14:41:12   \n",
      "9996   923560765008867329  2017-10-26 14:43:39   \n",
      "9997   922265988724338688  2017-10-23 00:58:41   \n",
      "10000  923905913362239489  2017-10-27 13:35:09   \n",
      "10001  921730014311337984  2017-10-21 13:28:54   \n",
      "\n",
      "                                                     URL  \\\n",
      "2      http://twitter.com/cuzwkxbmug1830/status/92189...   \n",
      "3      http://twitter.com/PoetFedericoDJ/status/92444...   \n",
      "4      http://twitter.com/niwandajones/status/9200468...   \n",
      "5      http://twitter.com/PuddnHaid/status/9237677281...   \n",
      "6      http://twitter.com/littletuans/status/92138895...   \n",
      "...                                                  ...   \n",
      "9995   http://twitter.com/HanneRRee/status/9246473085...   \n",
      "9996   http://twitter.com/GriesingLaw/status/92356076...   \n",
      "9997   http://twitter.com/Iron_Spike/status/922265988...   \n",
      "10000  http://twitter.com/Paige_Melin/status/92390591...   \n",
      "10001  http://twitter.com/DonBennettSr/status/9217300...   \n",
      "\n",
      "                                                Contents           Author  \\\n",
      "2      RT @Ththeforce After a party @parisreview , I ...  @cuzwkxbmug1830   \n",
      "3      RT @AshleyJudd Yet when we get together in gro...  @PoetFedericoDJ   \n",
      "4      RT @apbenven Reminder that if a woman didn't p...    @niwandajones   \n",
      "5      @PuestoLoco Entitlement. They Feel They're Ent...       @PuddnHaid   \n",
      "6      RT @soompi f(x)’s Amber Adds Her Own Thoughts ...     @littletuans   \n",
      "...                                                  ...              ...   \n",
      "9995   RT @AryesOfficial As the #MeToo campaign is go...       @HanneRRee   \n",
      "9996   Important steps you can take when faced w/ #se...     @GriesingLaw   \n",
      "9997   RT @TheRoot While most people think #MeToo is ...      @Iron_Spike   \n",
      "10000  RT @anne_theriault French equivalent of #metoo...     @Paige_Melin   \n",
      "10001  RT @disspat Pretty sure you oversexualize your...    @DonBennettSr   \n",
      "\n",
      "                      Name                   Country  State/Region  \\\n",
      "2      Jasmine  bockwinkel                       NaN           NaN   \n",
      "3           Kathy Federico                       NaN           NaN   \n",
      "4             Jim DelRosso  United States of America      New York   \n",
      "5               Puddn Haid  United States of America           NaN   \n",
      "6      ahgamai 💚 jbj debut                     Spain           NaN   \n",
      "...                    ...                       ...           ...   \n",
      "9995      Hanne Rindal Ree                       NaN           NaN   \n",
      "9996     Griesing Law, LLC  United States of America  Pennsylvania   \n",
      "9997            Iron Spike  United States of America           NaN   \n",
      "10000          paige melin                       NaN           NaN   \n",
      "10001    Made in the U.S.A                       NaN           NaN   \n",
      "\n",
      "      City/UrbanArea      Category   Source Gender   Posts Followers  \\\n",
      "2                NaN  Unclassified  Twitter      F      24         0   \n",
      "3                NaN  Unclassified  Twitter      F   21179       250   \n",
      "4             Ithaca  Unclassified  Twitter      M   12618      1769   \n",
      "5                NaN  Unclassified  Twitter    NaN   12054      1319   \n",
      "6                NaN  Unclassified  Twitter    NaN  131988      4616   \n",
      "...              ...           ...      ...    ...     ...       ...   \n",
      "9995             NaN  Unclassified  Twitter      F    1394       140   \n",
      "9996    Philadelphia  Unclassified  Twitter    NaN     879       477   \n",
      "9997             NaN  Unclassified  Twitter    NaN   89838     30350   \n",
      "10000            NaN  Unclassified  Twitter      F     194        59   \n",
      "10001            NaN  Unclassified  Twitter    NaN   22513       974   \n",
      "\n",
      "      Following                                          PostTitle PostType  \\\n",
      "2             0  RT @Ththeforce After a party  @parisreview , I...  Retweet   \n",
      "3           143  RT @AshleyJudd Yet when we get together in gro...  Retweet   \n",
      "4          2612  RT @apbenven Reminder that if a woman didn't p...  Retweet   \n",
      "5          2285  @PuestoLoco Entitlement. They Feel They're Ent...    Reply   \n",
      "6           152  RT @soompi f(x)’s Amber Adds Her Own Thoughts ...  Retweet   \n",
      "...         ...                                                ...      ...   \n",
      "9995        251  RT @AryesOfficial As the #MeToo campaign is go...  Retweet   \n",
      "9996        621  Important steps you can take when faced w/ #se...    Tweet   \n",
      "9997        613  RT @TheRoot While most people think #MeToo is ...  Retweet   \n",
      "10000       204  RT @anne_theriault French equivalent of #metoo...  Retweet   \n",
      "10001       327  RT @disspat Pretty sure you oversexualize your...  Retweet   \n",
      "\n",
      "      ImageURL Brand  \n",
      "2          NaN   NaN  \n",
      "3          NaN   NaN  \n",
      "4          NaN   NaN  \n",
      "5          NaN   NaN  \n",
      "6          NaN   NaN  \n",
      "...        ...   ...  \n",
      "9995       NaN   NaN  \n",
      "9996       NaN   NaN  \n",
      "9997       NaN   NaN  \n",
      "10000      NaN   NaN  \n",
      "10001      NaN   NaN  \n",
      "\n",
      "[8893 rows x 19 columns]\n"
     ]
    }
   ],
   "source": [
    "print(rslt_df)"
   ]
  },
  {
   "cell_type": "markdown",
   "metadata": {},
   "source": [
    "Task 3 - Sentiment polarity of each tweet"
   ]
  },
  {
   "cell_type": "code",
   "execution_count": 8,
   "metadata": {},
   "outputs": [
    {
     "name": "stdout",
     "output_type": "stream",
     "text": [
      "2        RT @Ththeforce After a party @parisreview , I ...\n",
      "3        RT @AshleyJudd Yet when we get together in gro...\n",
      "4        RT @apbenven Reminder that if a woman didn't p...\n",
      "5        @PuestoLoco Entitlement. They Feel They're Ent...\n",
      "6        RT @soompi f(x)’s Amber Adds Her Own Thoughts ...\n",
      "                               ...                        \n",
      "9995     RT @AryesOfficial As the #MeToo campaign is go...\n",
      "9996     Important steps you can take when faced w/ #se...\n",
      "9997     RT @TheRoot While most people think #MeToo is ...\n",
      "10000    RT @anne_theriault French equivalent of #metoo...\n",
      "10001    RT @disspat Pretty sure you oversexualize your...\n",
      "Name: Contents, Length: 8893, dtype: object\n"
     ]
    }
   ],
   "source": [
    "tweets = rslt_df['Contents']\n",
    "print(tweets)"
   ]
  },
  {
   "cell_type": "code",
   "execution_count": 9,
   "metadata": {},
   "outputs": [],
   "source": [
    "def preprocess(tweet):\n",
    "    return ' '.join(re.sub(\"(@[A-Za-z0-9]+)|([^0-9A-Za-z \\t]) 1|(\\w+:\\/\\/\\S+)\", \" \", tweet).split())"
   ]
  },
  {
   "cell_type": "code",
   "execution_count": 10,
   "metadata": {},
   "outputs": [],
   "source": [
    "def polarity(tweet_after_preprocess):\n",
    "    analysis = TextBlob(tweet_after_preprocess)\n",
    "    if analysis.sentiment.polarity > 0: \n",
    "        return 'positive'\n",
    "    elif analysis.sentiment.polarity == 0: \n",
    "        return 'neutral'\n",
    "    else: \n",
    "        return 'negative'"
   ]
  },
  {
   "cell_type": "code",
   "execution_count": 11,
   "metadata": {},
   "outputs": [
    {
     "name": "stdout",
     "output_type": "stream",
     "text": [
      "['Retweet' 'Reply' 'Tweet']\n"
     ]
    }
   ],
   "source": [
    "print(rslt_df.PostType.unique())"
   ]
  },
  {
   "cell_type": "code",
   "execution_count": 12,
   "metadata": {},
   "outputs": [
    {
     "name": "stdout",
     "output_type": "stream",
     "text": [
      "Tweet                                                        | Polarity\n",
      "RT @Ththeforce After a party @parisreview , I couldn't s ... | neutral\n",
      "RT @AshleyJudd Yet when we get together in groups, we di ... | neutral\n",
      "RT @apbenven Reminder that if a woman didn't post #MeToo ... | positive\n",
      "@PuestoLoco Entitlement. They Feel They're Entitled. The ... | positive\n",
      "RT @soompi f(x)’s Amber Adds Her Own Thoughts To “#MeToo ... | positive\n",
      "Whaat? Weinstein tells pals scandal happened so he could ... | neutral\n",
      "Twitter is not a platform for abuse. 31 Oct, 17 05:44 pm ... | neutral\n",
      "RT @NicoleCorrado16 To ALL complicit corrupt govt MONSTE ... | negative\n",
      "RT @Alyssa_Milano Weinstein, Empowerment And #MeToo As T ... | neutral\n",
      "The latest The Hiroshi Suzuki Daily! https://t.co/PXTmqJ ... | positive\n",
      "... (5752 rows omitted)\n"
     ]
    }
   ],
   "source": [
    "selected_tweets=[]\n",
    "polarity_of_tweets = []\n",
    "for tweet in tweets:\n",
    "    if tweet not in selected_tweets:\n",
    "        selected_tweets.append(tweet)\n",
    "        polarity_of_tweets.append(polarity(preprocess(tweet)))\n",
    "final_polarity_table = ds.Table().with_columns('Tweet', selected_tweets, 'Polarity', polarity_of_tweets)\n",
    "print(final_polarity_table)"
   ]
  }
 ],
 "metadata": {
  "kernelspec": {
   "display_name": "Python",
   "language": "python",
   "name": "conda-env-python-py"
  },
  "language_info": {
   "codemirror_mode": {
    "name": "ipython",
    "version": 3
   },
   "file_extension": ".py",
   "mimetype": "text/x-python",
   "name": "python",
   "nbconvert_exporter": "python",
   "pygments_lexer": "ipython3",
   "version": "3.6.7"
  }
 },
 "nbformat": 4,
 "nbformat_minor": 4
}
